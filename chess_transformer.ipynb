{
 "cells": [
  {
   "cell_type": "code",
   "execution_count": null,
   "id": "e4411995",
   "metadata": {},
   "outputs": [],
   "source": [
    "import torch\n",
    "import torch.nn as nn\n",
    "import torch.nn.functional as F\n",
    "import torchvision\n",
    "import torch.utils\n",
    "import numpy as np\n",
    "import matplotlib.pyplot as plt\n",
    "import chess.pgn\n",
    "import chess\n",
    "import os, os.path"
   ]
  },
  {
   "cell_type": "code",
   "execution_count": 4,
   "id": "8fbeca54",
   "metadata": {},
   "outputs": [],
   "source": [
    "# ----- hyper parameteres -----\n",
    "batch_size = 64\n",
    "embed_dim = 128\n",
    "head_size = 16\n",
    "learning_rate = 3e-4\n",
    "dropout = 0.1\n",
    "n_layers = 12\n",
    "n_classes = 5000\n",
    "n_iters = 5000\n",
    "eval_interval = 200\n",
    "best_loss = 1e9\n",
    "n_epochs = 100\n",
    "weight_decay = 0.97\n",
    "mode = \"train\"\n",
    "# -----------------------------\n",
    "n_tokens = 64 + 1\n",
    "num_heads = embed_dim // head_size"
   ]
  },
  {
   "cell_type": "code",
   "execution_count": null,
   "id": "d0c9309c",
   "metadata": {},
   "outputs": [],
   "source": [
    "def get_game_data(pgns_dir: str):\n",
    "    dir = os.fsencode(pgns_dir)\n",
    "\n",
    "    board_states = []\n",
    "    moves = []\n",
    "\n",
    "    for pgn in os.listdir(dir):\n",
    "        pgn_path = os.path.join(pgns_dir, os.fsdecode(pgn))\n",
    "        if os.path.getsize(pgn_path) < 10:\n",
    "            continue\n",
    "\n",
    "        with open(pgn_path) as f:\n",
    "            while True:\n",
    "\n",
    "                game = chess.pgn.read_game(f)\n",
    "                if game is None:\n",
    "                    break\n",
    "                board = game.board()\n",
    "\n",
    "                for move in game.mainline_moves():\n",
    "                    board_states.append(board.fen())\n",
    "                    moves.append(move.uci())\n",
    "                    board.push(move)\n",
    "        \n",
    "    return board_states, moves\n",
    "        \n",
    "        \n",
    "\n",
    "board_states, moves = get_game_data(\"pgns\")\n",
    "\n",
    "print(board_states[:10], moves[:10])"
   ]
  }
 ],
 "metadata": {
  "kernelspec": {
   "display_name": "talformer",
   "language": "python",
   "name": "python3"
  },
  "language_info": {
   "codemirror_mode": {
    "name": "ipython",
    "version": 3
   },
   "file_extension": ".py",
   "mimetype": "text/x-python",
   "name": "python",
   "nbconvert_exporter": "python",
   "pygments_lexer": "ipython3",
   "version": "3.10.18"
  }
 },
 "nbformat": 4,
 "nbformat_minor": 5
}
